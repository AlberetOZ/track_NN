{
 "cells": [
  {
   "cell_type": "code",
   "execution_count": 1,
   "metadata": {},
   "outputs": [],
   "source": [
    "import numpy as np\n",
    "import matplotlib.pyplot as plt\n",
    "import pickle\n",
    "import torch\n",
    "\n",
    "%matplotlib inline"
   ]
  },
  {
   "cell_type": "code",
   "execution_count": 2,
   "metadata": {},
   "outputs": [],
   "source": [
    "class OneHotEncoder:\n",
    "    def __init__(self):\n",
    "        self.transform_mapping = np.zeros((10,10))\n",
    "        for i in range(self.transform_mapping.shape[0]):\n",
    "            self.transform_mapping[i][i] = 1.0\n",
    "    def transform(self, y):\n",
    "        return self.transform_mapping[int(y)]"
   ]
  },
  {
   "cell_type": "code",
   "execution_count": 3,
   "metadata": {},
   "outputs": [],
   "source": [
    "def make_submission(X_test, net, fname=\"my_submission.csv\"):\n",
    "    with open(fname,'w') as fout:\n",
    "        fout.write('Id,Category')\n",
    "        for i in range(X_test.shape[0]):\n",
    "            y_h = net.forward(X_test[i])\n",
    "            y = torch.argmax(y_h)\n",
    "            fout.write(f\"\\n{i},{int(y)}\")"
   ]
  },
  {
   "cell_type": "code",
   "execution_count": 4,
   "metadata": {},
   "outputs": [],
   "source": [
    "train_data = None\n",
    "test_data = None\n",
    "encoder = OneHotEncoder()\n",
    "\n",
    "with open('data_train.pickle','rb') as fin:\n",
    "    train_data = pickle.load(fin)\n",
    "with open('data_test_no_labels.pickle','rb') as fin:\n",
    "    test_data = pickle.load(fin)\n",
    "\n",
    "# Выберем размер тренировочной выборки\n",
    "m = int (0.85 * train_data['data'].shape[0])\n",
    "\n",
    "# Выберем тренировочную выборку\n",
    "X_train = train_data['data'][:m:]\n",
    "Y_train = train_data['target'][:m:]\n",
    "Y_train_oh = torch.FloatTensor(list(map(lambda x : encoder.transform(x), Y_train)))\n",
    "\n",
    "# Выберем валидационную выборку\n",
    "X_valid = train_data['data'][m::]\n",
    "Y_valid = train_data['target'][m::]\n",
    "Y_valid_oh = torch.FloatTensor(list(map(lambda x : encoder.transform(x), Y_valid)))\n",
    "\n",
    "# Нормируем признаки\n",
    "mean = np.mean(X_train, axis=0)\n",
    "std  = np.std(X_train, axis=0)\n",
    "\n",
    "X_train  = torch.from_numpy ((X_train - mean) / (std + 1e-10)).float()\n",
    "X_valid  = torch.from_numpy ((X_valid - mean) / (std + 1e-10)).float()\n",
    "X_test   = torch.from_numpy ((test_data['data'] - mean) / (std + 1e-10)).float()"
   ]
  },
  {
   "cell_type": "code",
   "execution_count": 5,
   "metadata": {},
   "outputs": [
    {
     "data": {
      "image/png": "[encoded data removed]",
      "text/plain": [
       "<Figure size 432x288 with 16 Axes>"
      ]
     },
     "metadata": {
      "needs_background": "light"
     },
     "output_type": "display_data"
    }
   ],
   "source": [
    "n=4\n",
    "for i in range(n*n):\n",
    "    plt.subplot(n,n,i+1)\n",
    "    I = train_data['data'][np.random.randint(0, X_train.shape[0]),:]\n",
    "    I = I.reshape((28, 28))\n",
    "    plt.imshow(I, cmap='gray')"
   ]
  },
  {
   "cell_type": "markdown",
   "metadata": {},
   "source": [
    "# Определение слоев сети"
   ]
  },
  {
   "cell_type": "code",
   "execution_count": 6,
   "metadata": {},
   "outputs": [],
   "source": [
    "class Dense:\n",
    "    def __init__ (self, in_size, out_size, rlambda = 0.0):\n",
    "        self.W = torch.randn(out_size, in_size) * np.sqrt(2 / (out_size + in_size))\n",
    "        self.b = torch.zeros(out_size, )\n",
    "        self.rlambda = rlambda\n",
    "\n",
    "    def forward (self, x):\n",
    "        self.x = x # запоминаем для обратного перехода\n",
    "        return torch.matmul(self.W, x) + self.b\n",
    "    \n",
    "    def backward (self, dz, lr = 0.001):\n",
    "        # вычисляем градиенты по параметрам\n",
    "        self.dW = torch.ger(dz, self.x)\n",
    "        self.db = dz\n",
    "        \n",
    "        # вычисляем производную по входу\n",
    "        self.dx = torch.matmul(self.W.t(), dz)\n",
    "            \n",
    "        # обновляем веса\n",
    "        self.W -= (self.W * self.rlambda + self.dW) * lr\n",
    "        self.b -= lr * self.db\n",
    "        \n",
    "        # возвращаем dx для продолжения алгоритма\n",
    "        return self.dx"
   ]
  },
  {
   "cell_type": "code",
   "execution_count": 7,
   "metadata": {},
   "outputs": [],
   "source": [
    "class Max:\n",
    "    def forward(self, x):\n",
    "        self.x = x\n",
    "        return np.maximum(0, x)\n",
    "    \n",
    "    def backward(self, dz, lr=0.1):\n",
    "        dz[self.x < 0] = 0\n",
    "        return dz"
   ]
  },
  {
   "cell_type": "code",
   "execution_count": 8,
   "metadata": {},
   "outputs": [],
   "source": [
    "class Softmax: \n",
    "    def forward(self, x):\n",
    "        self.x = x\n",
    "        exp = torch.exp (x - torch.max(x))\n",
    "        return exp / exp.sum()\n",
    "    \n",
    "    def backward(self, dz, lr=0.001):\n",
    "        P  = self.forward(self.x)\n",
    "        return torch.matmul((P * torch.eye(self.x.shape[0]) - torch.ger (P, P)), dz)"
   ]
  },
  {
   "cell_type": "code",
   "execution_count": 9,
   "metadata": {},
   "outputs": [],
   "source": [
    "class CrossEntropy:\n",
    "    def forward(self, y_true, y_hat):\n",
    "        self.y_true = y_true\n",
    "        self.y_hat = y_hat\n",
    "        L = -1 * y_true * torch.log (y_hat + 1e-10)\n",
    "        return L.sum()\n",
    "    \n",
    "    def backward(self, dz, lr=0.001):\n",
    "        return -1 * self.y_true / (self.y_hat + 1e-10)"
   ]
  },
  {
   "cell_type": "code",
   "execution_count": 10,
   "metadata": {},
   "outputs": [],
   "source": [
    "class Dropout:\n",
    "    def __init__(self, p = 0.5):\n",
    "        self.p = p\n",
    "        self.train = True\n",
    "    \n",
    "    def set_train(self, train = True):\n",
    "        self.train = train\n",
    "    \n",
    "    def forward(self, x):\n",
    "        if not self.train:\n",
    "            self.mask = torch.ones(*x.shape)\n",
    "            return x\n",
    "        \n",
    "        self.mask = ((torch.rand(*x.shape) > self.p) * (1 / (1.0 - self.p))).float()\n",
    "        return x * self.mask\n",
    "        \n",
    "    def backward(self, dz, lr=0.001):\n",
    "        return dz * self.mask"
   ]
  },
  {
   "cell_type": "markdown",
   "metadata": {},
   "source": [
    "# Опеределение самой сети"
   ]
  },
  {
   "cell_type": "code",
   "execution_count": 11,
   "metadata": {},
   "outputs": [],
   "source": [
    "class MnistNet:\n",
    "    def __init__(self, rlambda=0.0):\n",
    "        self.d1 = Dense(784, 300, rlambda)\n",
    "        self.m1 = Max()\n",
    "        self.dr = Dropout (0.2)\n",
    "        self.d2 = Dense(300, 10, rlambda)\n",
    "        self.m2 = Max()\n",
    "        self.s  = Softmax()\n",
    "    \n",
    "    def forward(self, x):\n",
    "        net = self.d1.forward(x)\n",
    "        net = self.m1.forward(net)\n",
    "        net = self.dr.forward(net)\n",
    "        net = self.d2.forward(net)\n",
    "        net = self.m2.forward(net)\n",
    "        net = self.s.forward(net)\n",
    "        return net\n",
    "    \n",
    "    def backward(self, dz, lr):\n",
    "        dz = self.s.backward(dz, lr)\n",
    "        dz = self.m2.backward(dz, lr)\n",
    "        dz = self.d2.backward(dz, lr)\n",
    "        dz = self.dr.backward(dz, lr)\n",
    "        dz = self.m1.backward(dz, lr)\n",
    "        dz = self.d1.backward(dz, lr)\n",
    "        return dz\n",
    "    \n",
    "    def fit(self, X_test, Y_test, Y_test_oh, loss, lr):\n",
    "        L = 0.\n",
    "        acc  = 0.\n",
    "        \n",
    "        for i in range(X_test.shape[0]):\n",
    "            \n",
    "            x    = X_test[i]\n",
    "            y    = Y_test[i]\n",
    "            y_oh = Y_test_oh[i]\n",
    "            y_h  = self.forward(x)\n",
    "            \n",
    "            L += loss.forward(y_oh, y_h)\n",
    "            dz = loss.backward(1, lr)\n",
    "            dz = self.backward(dz, lr)\n",
    "            \n",
    "            if ((torch.argmax(y_h).float()) == y):\n",
    "                acc += 1.\n",
    "                \n",
    "        L   /= Y_test.shape[0]\n",
    "        acc /= Y_test.shape[0]\n",
    "            \n",
    "        return L, acc"
   ]
  },
  {
   "cell_type": "markdown",
   "metadata": {},
   "source": [
    "# Обучение сети"
   ]
  },
  {
   "cell_type": "code",
   "execution_count": 12,
   "metadata": {},
   "outputs": [
    {
     "name": "stdout",
     "output_type": "stream",
     "text": [
      "Epoch 1:\n",
      "\tloss.\tTrain : 0.7152069807052612\tTest : 0.4084084630012512\n",
      "\tacc.\tTrain : 0.7985882352941176\tTest : 0.8902857142857142\n",
      "Epoch 2:\n",
      "\tloss.\tTrain : 0.3248562514781952\tTest : 0.3360818326473236\n",
      "\tacc.\tTrain : 0.9066890756302521\tTest : 0.9079365079365079\n",
      "Epoch 3:\n",
      "\tloss.\tTrain : 0.26553791761398315\tTest : 0.3021947145462036\n",
      "\tacc.\tTrain : 0.9216806722689076\tTest : 0.9175873015873016\n",
      "Epoch 4:\n",
      "\tloss.\tTrain : 0.2334483116865158\tTest : 0.2816503643989563\n",
      "\tacc.\tTrain : 0.9324817927170869\tTest : 0.9258412698412698\n",
      "Epoch 5:\n",
      "\tloss.\tTrain : 0.21080748736858368\tTest : 0.2643241882324219\n",
      "\tacc.\tTrain : 0.9381512605042017\tTest : 0.9295238095238095\n",
      "Epoch 6:\n",
      "\tloss.\tTrain : 0.191885307431221\tTest : 0.2534445822238922\n",
      "\tacc.\tTrain : 0.9440448179271709\tTest : 0.9316825396825397\n",
      "Epoch 7:\n",
      "\tloss.\tTrain : 0.17954279482364655\tTest : 0.24806591868400574\n",
      "\tacc.\tTrain : 0.9475406162464985\tTest : 0.9324444444444444\n",
      "Epoch 8:\n",
      "\tloss.\tTrain : 0.16750246286392212\tTest : 0.23722399771213531\n",
      "\tacc.\tTrain : 0.9509019607843138\tTest : 0.9373968253968255\n",
      "Epoch 9:\n",
      "\tloss.\tTrain : 0.1588999629020691\tTest : 0.23107635974884033\n",
      "\tacc.\tTrain : 0.9537478991596638\tTest : 0.9386666666666666\n",
      "Epoch 10:\n",
      "\tloss.\tTrain : 0.15075719356536865\tTest : 0.2261505126953125\n",
      "\tacc.\tTrain : 0.9556526610644258\tTest : 0.9401904761904762\n",
      "Epoch 11:\n",
      "\tloss.\tTrain : 0.14108139276504517\tTest : 0.22111845016479492\n",
      "\tacc.\tTrain : 0.958610644257703\tTest : 0.9412063492063492\n",
      "Epoch 12:\n",
      "\tloss.\tTrain : 0.137839213013649\tTest : 0.21759796142578125\n",
      "\tacc.\tTrain : 0.9604033613445379\tTest : 0.9424761904761905\n",
      "Epoch 13:\n",
      "\tloss.\tTrain : 0.13199932873249054\tTest : 0.2164772003889084\n",
      "\tacc.\tTrain : 0.9623529411764706\tTest : 0.9433650793650794\n",
      "Epoch 14:\n",
      "\tloss.\tTrain : 0.12734387814998627\tTest : 0.20837607979774475\n",
      "\tacc.\tTrain : 0.9629355742296919\tTest : 0.9459047619047619\n",
      "Epoch 15:\n",
      "\tloss.\tTrain : 0.12170363962650299\tTest : 0.20389872789382935\n",
      "\tacc.\tTrain : 0.9648851540616247\tTest : 0.9488253968253968\n",
      "Epoch 16:\n",
      "\tloss.\tTrain : 0.1180320680141449\tTest : 0.19302132725715637\n",
      "\tacc.\tTrain : 0.9665882352941176\tTest : 0.948952380952381\n",
      "Epoch 17:\n",
      "\tloss.\tTrain : 0.11298712342977524\tTest : 0.19324220716953278\n",
      "\tacc.\tTrain : 0.9677535014005603\tTest : 0.9486984126984127\n",
      "Epoch 18:\n",
      "\tloss.\tTrain : 0.10999152809381485\tTest : 0.19163431227207184\n",
      "\tacc.\tTrain : 0.9687619047619047\tTest : 0.9490793650793651\n",
      "Epoch 19:\n",
      "\tloss.\tTrain : 0.10720667988061905\tTest : 0.1911216825246811\n",
      "\tacc.\tTrain : 0.9694341736694678\tTest : 0.9503492063492064\n",
      "Epoch 20:\n",
      "\tloss.\tTrain : 0.10541222244501114\tTest : 0.19448791444301605\n",
      "\tacc.\tTrain : 0.9705770308123249\tTest : 0.9500952380952381\n",
      "Epoch 21:\n",
      "\tloss.\tTrain : 0.10044219344854355\tTest : 0.1887359321117401\n",
      "\tacc.\tTrain : 0.9722801120448179\tTest : 0.9493333333333334\n",
      "Epoch 22:\n",
      "\tloss.\tTrain : 0.0984569862484932\tTest : 0.1899339109659195\n",
      "\tacc.\tTrain : 0.9719215686274509\tTest : 0.9517460317460318\n",
      "Epoch 23:\n",
      "\tloss.\tTrain : 0.09519961476325989\tTest : 0.1767834722995758\n",
      "\tacc.\tTrain : 0.9734453781512605\tTest : 0.9551746031746031\n",
      "Epoch 24:\n",
      "\tloss.\tTrain : 0.09319362789392471\tTest : 0.17969197034835815\n",
      "\tacc.\tTrain : 0.9738711484593837\tTest : 0.954031746031746\n",
      "Epoch 25:\n",
      "\tloss.\tTrain : 0.0914105549454689\tTest : 0.18173807859420776\n",
      "\tacc.\tTrain : 0.9741176470588235\tTest : 0.9539047619047619\n",
      "Epoch 26:\n",
      "\tloss.\tTrain : 0.08888476341962814\tTest : 0.17655837535858154\n",
      "\tacc.\tTrain : 0.9754397759103641\tTest : 0.9547936507936507\n",
      "Epoch 27:\n",
      "\tloss.\tTrain : 0.08799002319574356\tTest : 0.17371352016925812\n",
      "\tacc.\tTrain : 0.9760448179271709\tTest : 0.954920634920635\n",
      "Epoch 28:\n",
      "\tloss.\tTrain : 0.08602705597877502\tTest : 0.17233528196811676\n",
      "\tacc.\tTrain : 0.976156862745098\tTest : 0.9565714285714285\n",
      "Epoch 29:\n",
      "\tloss.\tTrain : 0.08424750715494156\tTest : 0.17551356554031372\n",
      "\tacc.\tTrain : 0.9767619047619047\tTest : 0.9547936507936507\n",
      "Epoch 30:\n",
      "\tloss.\tTrain : 0.08133114129304886\tTest : 0.17136770486831665\n",
      "\tacc.\tTrain : 0.977546218487395\tTest : 0.9566984126984127\n",
      "Epoch 31:\n",
      "\tloss.\tTrain : 0.07959116250276566\tTest : 0.16971942782402039\n",
      "\tacc.\tTrain : 0.9778151260504202\tTest : 0.9577142857142857\n",
      "Epoch 32:\n",
      "\tloss.\tTrain : 0.0797216147184372\tTest : 0.17358870804309845\n",
      "\tacc.\tTrain : 0.9777030812324929\tTest : 0.9572063492063492\n",
      "Epoch 33:\n",
      "\tloss.\tTrain : 0.07609067112207413\tTest : 0.1700851023197174\n",
      "\tacc.\tTrain : 0.979249299719888\tTest : 0.9587301587301588\n",
      "Epoch 34:\n",
      "\tloss.\tTrain : 0.07515669614076614\tTest : 0.1717182844877243\n",
      "\tacc.\tTrain : 0.9797198879551821\tTest : 0.9564444444444444\n",
      "Epoch 35:\n",
      "\tloss.\tTrain : 0.07385091483592987\tTest : 0.16698774695396423\n",
      "\tacc.\tTrain : 0.9800336134453782\tTest : 0.9568253968253968\n",
      "Epoch 36:\n",
      "\tloss.\tTrain : 0.0724797174334526\tTest : 0.16540701687335968\n",
      "\tacc.\tTrain : 0.9805042016806723\tTest : 0.9574603174603175\n",
      "Epoch 37:\n",
      "\tloss.\tTrain : 0.07115620374679565\tTest : 0.16543594002723694\n",
      "\tacc.\tTrain : 0.9808403361344538\tTest : 0.9586031746031746\n",
      "Epoch 38:\n",
      "\tloss.\tTrain : 0.07003602385520935\tTest : 0.16521970927715302\n",
      "\tacc.\tTrain : 0.981781512605042\tTest : 0.9594920634920635\n",
      "Epoch 39:\n",
      "\tloss.\tTrain : 0.06832324713468552\tTest : 0.16234521567821503\n",
      "\tacc.\tTrain : 0.9820952380952381\tTest : 0.9579682539682539\n",
      "Epoch 40:\n",
      "\tloss.\tTrain : 0.06939064711332321\tTest : 0.1619485318660736\n",
      "\tacc.\tTrain : 0.9814453781512605\tTest : 0.96\n",
      "Epoch 41:\n",
      "\tloss.\tTrain : 0.06817996501922607\tTest : 0.16497932374477386\n",
      "\tacc.\tTrain : 0.981781512605042\tTest : 0.9587301587301588\n",
      "Epoch 42:\n",
      "\tloss.\tTrain : 0.06560923904180527\tTest : 0.158468097448349\n",
      "\tacc.\tTrain : 0.9829019607843137\tTest : 0.96\n",
      "Epoch 43:\n",
      "\tloss.\tTrain : 0.06521955132484436\tTest : 0.15893115103244781\n",
      "\tacc.\tTrain : 0.9830812324929972\tTest : 0.9587301587301588\n",
      "Epoch 44:\n",
      "\tloss.\tTrain : 0.06458905339241028\tTest : 0.15698660910129547\n",
      "\tacc.\tTrain : 0.982296918767507\tTest : 0.9606349206349206\n",
      "Epoch 45:\n",
      "\tloss.\tTrain : 0.06295984983444214\tTest : 0.16222235560417175\n",
      "\tacc.\tTrain : 0.9834397759103641\tTest : 0.9606349206349206\n",
      "Epoch 46:\n",
      "\tloss.\tTrain : 0.06304007768630981\tTest : 0.16044504940509796\n",
      "\tacc.\tTrain : 0.9831932773109243\tTest : 0.956952380952381\n",
      "Epoch 47:\n",
      "\tloss.\tTrain : 0.06192978471517563\tTest : 0.15745441615581512\n",
      "\tacc.\tTrain : 0.984672268907563\tTest : 0.9592380952380952\n",
      "Epoch 48:\n",
      "\tloss.\tTrain : 0.060944173485040665\tTest : 0.16100196540355682\n",
      "\tacc.\tTrain : 0.9844705882352941\tTest : 0.9596190476190476\n",
      "Epoch 49:\n",
      "\tloss.\tTrain : 0.06032929569482803\tTest : 0.15893271565437317\n",
      "\tacc.\tTrain : 0.984358543417367\tTest : 0.9615238095238096\n",
      "Epoch 50:\n",
      "\tloss.\tTrain : 0.059775855392217636\tTest : 0.15850071609020233\n",
      "\tacc.\tTrain : 0.9850756302521009\tTest : 0.9596190476190476\n",
      "Epoch 51:\n",
      "\tloss.\tTrain : 0.05835910141468048\tTest : 0.15535175800323486\n",
      "\tacc.\tTrain : 0.9850756302521009\tTest : 0.96\n",
      "Epoch 52:\n",
      "\tloss.\tTrain : 0.05782747268676758\tTest : 0.153459370136261\n",
      "\tacc.\tTrain : 0.9852773109243698\tTest : 0.9608888888888889\n",
      "Epoch 53:\n",
      "\tloss.\tTrain : 0.057414501905441284\tTest : 0.15131141245365143\n",
      "\tacc.\tTrain : 0.9857478991596639\tTest : 0.9612698412698413\n",
      "Epoch 54:\n",
      "\tloss.\tTrain : 0.05656672269105911\tTest : 0.1570107638835907\n",
      "\tacc.\tTrain : 0.9860392156862745\tTest : 0.9605079365079365\n",
      "Epoch 55:\n",
      "\tloss.\tTrain : 0.05739622563123703\tTest : 0.1470341980457306\n",
      "\tacc.\tTrain : 0.9850980392156863\tTest : 0.9631746031746031\n",
      "Epoch 56:\n",
      "\tloss.\tTrain : 0.05618736147880554\tTest : 0.14898771047592163\n",
      "\tacc.\tTrain : 0.9856358543417367\tTest : 0.9626666666666667\n",
      "Epoch 57:\n",
      "\tloss.\tTrain : 0.05534960329532623\tTest : 0.15207995474338531\n",
      "\tacc.\tTrain : 0.9867338935574229\tTest : 0.9601269841269842\n",
      "Epoch 58:\n",
      "\tloss.\tTrain : 0.05359424650669098\tTest : 0.1447083204984665\n",
      "\tacc.\tTrain : 0.9870476190476191\tTest : 0.962031746031746\n",
      "Epoch 59:\n",
      "\tloss.\tTrain : 0.05468185991048813\tTest : 0.15171736478805542\n",
      "\tacc.\tTrain : 0.9870028011204481\tTest : 0.9597460317460318\n",
      "Epoch 60:\n",
      "\tloss.\tTrain : 0.052836447954177856\tTest : 0.1477397233247757\n",
      "\tacc.\tTrain : 0.9872044817927171\tTest : 0.962031746031746\n"
     ]
    },
    {
     "ename": "KeyboardInterrupt",
     "evalue": "",
     "output_type": "error",
     "traceback": [
      "\u001b[0;31m---------------------------------------------------------------------------\u001b[0m",
      "\u001b[0;31mKeyboardInterrupt\u001b[0m                         Traceback (most recent call last)",
      "\u001b[0;32m<ipython-input-12-dd6656c38759>\u001b[0m in \u001b[0;36m<module>\u001b[0;34m()\u001b[0m\n\u001b[1;32m      8\u001b[0m \u001b[0;34m\u001b[0m\u001b[0m\n\u001b[1;32m      9\u001b[0m \u001b[0;32mfor\u001b[0m \u001b[0miter\u001b[0m \u001b[0;32min\u001b[0m \u001b[0mrange\u001b[0m\u001b[0;34m(\u001b[0m\u001b[0;36m100\u001b[0m\u001b[0;34m)\u001b[0m\u001b[0;34m:\u001b[0m\u001b[0;34m\u001b[0m\u001b[0m\n\u001b[0;32m---> 10\u001b[0;31m     \u001b[0mL1\u001b[0m\u001b[0;34m,\u001b[0m \u001b[0macc1\u001b[0m \u001b[0;34m=\u001b[0m \u001b[0mnet\u001b[0m\u001b[0;34m.\u001b[0m\u001b[0mfit\u001b[0m \u001b[0;34m(\u001b[0m\u001b[0mX_train\u001b[0m\u001b[0;34m,\u001b[0m \u001b[0mY_train\u001b[0m\u001b[0;34m,\u001b[0m \u001b[0mY_train_oh\u001b[0m\u001b[0;34m,\u001b[0m \u001b[0mloss\u001b[0m\u001b[0;34m,\u001b[0m \u001b[0mlr\u001b[0m\u001b[0;34m)\u001b[0m\u001b[0;34m\u001b[0m\u001b[0m\n\u001b[0m\u001b[1;32m     11\u001b[0m     \u001b[0mL_train\u001b[0m\u001b[0;34m.\u001b[0m\u001b[0mappend\u001b[0m \u001b[0;34m(\u001b[0m\u001b[0mL1\u001b[0m\u001b[0;34m)\u001b[0m\u001b[0;34m\u001b[0m\u001b[0m\n\u001b[1;32m     12\u001b[0m     \u001b[0mAcc_train\u001b[0m\u001b[0;34m.\u001b[0m\u001b[0mappend\u001b[0m \u001b[0;34m(\u001b[0m\u001b[0macc1\u001b[0m\u001b[0;34m)\u001b[0m\u001b[0;34m\u001b[0m\u001b[0m\n",
      "\u001b[0;32m<ipython-input-11-fc10fd657721>\u001b[0m in \u001b[0;36mfit\u001b[0;34m(self, X_test, Y_test, Y_test_oh, loss, lr)\u001b[0m\n\u001b[1;32m     39\u001b[0m             \u001b[0mL\u001b[0m \u001b[0;34m+=\u001b[0m \u001b[0mloss\u001b[0m\u001b[0;34m.\u001b[0m\u001b[0mforward\u001b[0m\u001b[0;34m(\u001b[0m\u001b[0my_oh\u001b[0m\u001b[0;34m,\u001b[0m \u001b[0my_h\u001b[0m\u001b[0;34m)\u001b[0m\u001b[0;34m\u001b[0m\u001b[0m\n\u001b[1;32m     40\u001b[0m             \u001b[0mdz\u001b[0m \u001b[0;34m=\u001b[0m \u001b[0mloss\u001b[0m\u001b[0;34m.\u001b[0m\u001b[0mbackward\u001b[0m\u001b[0;34m(\u001b[0m\u001b[0;36m1\u001b[0m\u001b[0;34m,\u001b[0m \u001b[0mlr\u001b[0m\u001b[0;34m)\u001b[0m\u001b[0;34m\u001b[0m\u001b[0m\n\u001b[0;32m---> 41\u001b[0;31m             \u001b[0mdz\u001b[0m \u001b[0;34m=\u001b[0m \u001b[0mself\u001b[0m\u001b[0;34m.\u001b[0m\u001b[0mbackward\u001b[0m\u001b[0;34m(\u001b[0m\u001b[0mdz\u001b[0m\u001b[0;34m,\u001b[0m \u001b[0mlr\u001b[0m\u001b[0;34m)\u001b[0m\u001b[0;34m\u001b[0m\u001b[0m\n\u001b[0m\u001b[1;32m     42\u001b[0m \u001b[0;34m\u001b[0m\u001b[0m\n\u001b[1;32m     43\u001b[0m             \u001b[0;32mif\u001b[0m \u001b[0;34m(\u001b[0m\u001b[0;34m(\u001b[0m\u001b[0mtorch\u001b[0m\u001b[0;34m.\u001b[0m\u001b[0margmax\u001b[0m\u001b[0;34m(\u001b[0m\u001b[0my_h\u001b[0m\u001b[0;34m)\u001b[0m\u001b[0;34m.\u001b[0m\u001b[0mfloat\u001b[0m\u001b[0;34m(\u001b[0m\u001b[0;34m)\u001b[0m\u001b[0;34m)\u001b[0m \u001b[0;34m==\u001b[0m \u001b[0my\u001b[0m\u001b[0;34m)\u001b[0m\u001b[0;34m:\u001b[0m\u001b[0;34m\u001b[0m\u001b[0m\n",
      "\u001b[0;32m<ipython-input-11-fc10fd657721>\u001b[0m in \u001b[0;36mbackward\u001b[0;34m(self, dz, lr)\u001b[0m\n\u001b[1;32m     23\u001b[0m         \u001b[0mdz\u001b[0m \u001b[0;34m=\u001b[0m \u001b[0mself\u001b[0m\u001b[0;34m.\u001b[0m\u001b[0mdr\u001b[0m\u001b[0;34m.\u001b[0m\u001b[0mbackward\u001b[0m\u001b[0;34m(\u001b[0m\u001b[0mdz\u001b[0m\u001b[0;34m,\u001b[0m \u001b[0mlr\u001b[0m\u001b[0;34m)\u001b[0m\u001b[0;34m\u001b[0m\u001b[0m\n\u001b[1;32m     24\u001b[0m         \u001b[0mdz\u001b[0m \u001b[0;34m=\u001b[0m \u001b[0mself\u001b[0m\u001b[0;34m.\u001b[0m\u001b[0mm1\u001b[0m\u001b[0;34m.\u001b[0m\u001b[0mbackward\u001b[0m\u001b[0;34m(\u001b[0m\u001b[0mdz\u001b[0m\u001b[0;34m,\u001b[0m \u001b[0mlr\u001b[0m\u001b[0;34m)\u001b[0m\u001b[0;34m\u001b[0m\u001b[0m\n\u001b[0;32m---> 25\u001b[0;31m         \u001b[0mdz\u001b[0m \u001b[0;34m=\u001b[0m \u001b[0mself\u001b[0m\u001b[0;34m.\u001b[0m\u001b[0md1\u001b[0m\u001b[0;34m.\u001b[0m\u001b[0mbackward\u001b[0m\u001b[0;34m(\u001b[0m\u001b[0mdz\u001b[0m\u001b[0;34m,\u001b[0m \u001b[0mlr\u001b[0m\u001b[0;34m)\u001b[0m\u001b[0;34m\u001b[0m\u001b[0m\n\u001b[0m\u001b[1;32m     26\u001b[0m         \u001b[0;32mreturn\u001b[0m \u001b[0mdz\u001b[0m\u001b[0;34m\u001b[0m\u001b[0m\n\u001b[1;32m     27\u001b[0m \u001b[0;34m\u001b[0m\u001b[0m\n",
      "\u001b[0;32m<ipython-input-6-c24a93b5ce21>\u001b[0m in \u001b[0;36mbackward\u001b[0;34m(self, dz, lr)\u001b[0m\n\u001b[1;32m     11\u001b[0m     \u001b[0;32mdef\u001b[0m \u001b[0mbackward\u001b[0m \u001b[0;34m(\u001b[0m\u001b[0mself\u001b[0m\u001b[0;34m,\u001b[0m \u001b[0mdz\u001b[0m\u001b[0;34m,\u001b[0m \u001b[0mlr\u001b[0m \u001b[0;34m=\u001b[0m \u001b[0;36m0.001\u001b[0m\u001b[0;34m)\u001b[0m\u001b[0;34m:\u001b[0m\u001b[0;34m\u001b[0m\u001b[0m\n\u001b[1;32m     12\u001b[0m         \u001b[0;31m# вычисляем градиенты по параметрам\u001b[0m\u001b[0;34m\u001b[0m\u001b[0;34m\u001b[0m\u001b[0m\n\u001b[0;32m---> 13\u001b[0;31m         \u001b[0mself\u001b[0m\u001b[0;34m.\u001b[0m\u001b[0mdW\u001b[0m \u001b[0;34m=\u001b[0m \u001b[0mtorch\u001b[0m\u001b[0;34m.\u001b[0m\u001b[0mger\u001b[0m\u001b[0;34m(\u001b[0m\u001b[0mdz\u001b[0m\u001b[0;34m,\u001b[0m \u001b[0mself\u001b[0m\u001b[0;34m.\u001b[0m\u001b[0mx\u001b[0m\u001b[0;34m)\u001b[0m\u001b[0;34m\u001b[0m\u001b[0m\n\u001b[0m\u001b[1;32m     14\u001b[0m         \u001b[0mself\u001b[0m\u001b[0;34m.\u001b[0m\u001b[0mdb\u001b[0m \u001b[0;34m=\u001b[0m \u001b[0mdz\u001b[0m\u001b[0;34m\u001b[0m\u001b[0m\n\u001b[1;32m     15\u001b[0m \u001b[0;34m\u001b[0m\u001b[0m\n",
      "\u001b[0;31mKeyboardInterrupt\u001b[0m: "
     ]
    }
   ],
   "source": [
    "net = MnistNet(0.001)\n",
    "loss = CrossEntropy()\n",
    "lr = 0.0002\n",
    "L_train = []\n",
    "L_test = []\n",
    "Acc_train = []\n",
    "Acc_test = []\n",
    "\n",
    "for iter in range(100):\n",
    "    L1, acc1 = net.fit (X_train, Y_train, Y_train_oh, loss, lr)\n",
    "    L_train.append (L1)\n",
    "    Acc_train.append (acc1)\n",
    "    \n",
    "    L2   = 0.\n",
    "    acc2 = 0.\n",
    "    \n",
    "    for i in range(X_valid.shape[0]):\n",
    "        x    = X_valid[i]\n",
    "        y    = Y_valid[i]\n",
    "        y_oh = Y_valid_oh[i]\n",
    "        y_h  = net.forward(x)\n",
    "        \n",
    "        L2 += loss.forward(y_oh, y_h)\n",
    "        \n",
    "        if (torch.argmax (y_h) == y):\n",
    "            acc2 += 1.\n",
    "\n",
    "    L2   /= Y_valid.shape[0]\n",
    "    acc2 /= Y_valid.shape[0]\n",
    "    \n",
    "    L_test.append (L2)\n",
    "    Acc_test.append (acc2)\n",
    "    \n",
    "    print(f\"Epoch {iter + 1}:\")\n",
    "    print(f\"\\tloss.\\tTrain : {L1}\\tTest : {L2}\")\n",
    "    print(f\"\\tacc.\\tTrain : {acc1}\\tTest : {acc2}\")"
   ]
  },
  {
   "cell_type": "markdown",
   "metadata": {},
   "source": [
    "# Рисуем графики"
   ]
  },
  {
   "cell_type": "code",
   "execution_count": 13,
   "metadata": {},
   "outputs": [
    {
     "data": {
      "text/plain": [
       "<matplotlib.legend.Legend at 0x14121bf60>"
      ]
     },
     "execution_count": 13,
     "metadata": {},
     "output_type": "execute_result"
    },
    {
     "data": {
      "image/png": "[encoded data removed]",
      "text/plain": [
       "<Figure size 432x288 with 1 Axes>"
      ]
     },
     "metadata": {
      "needs_background": "light"
     },
     "output_type": "display_data"
    }
   ],
   "source": [
    "plt.title('loss')\n",
    "plt.plot(L_train, label='train')\n",
    "plt.plot(L_test, label='test')\n",
    "plt.legend()"
   ]
  },
  {
   "cell_type": "code",
   "execution_count": 14,
   "metadata": {},
   "outputs": [
    {
     "data": {
      "text/plain": [
       "<matplotlib.legend.Legend at 0x14127b978>"
      ]
     },
     "execution_count": 14,
     "metadata": {},
     "output_type": "execute_result"
    },
    {
     "data": {
      "image/png": "[encoded data removed]",
      "text/plain": [
       "<Figure size 432x288 with 1 Axes>"
      ]
     },
     "metadata": {
      "needs_background": "light"
     },
     "output_type": "display_data"
    }
   ],
   "source": [
    "plt.title('accuracy')\n",
    "plt.plot(Acc_train, label='train')\n",
    "plt.plot(Acc_test, label='test')\n",
    "plt.legend()"
   ]
  },
  {
   "cell_type": "markdown",
   "metadata": {},
   "source": [
    "# Формируем submission и заливаем его на kaggle"
   ]
  },
  {
   "cell_type": "code",
   "execution_count": 15,
   "metadata": {},
   "outputs": [],
   "source": [
    "make_submission(X_test, net)"
   ]
  },
  {
   "cell_type": "code",
   "execution_count": null,
   "metadata": {},
   "outputs": [],
   "source": []
  }
 ],
 "metadata": {
  "kernelspec": {
   "display_name": "Python 3",
   "language": "python",
   "name": "python3"
  },
  "language_info": {
   "codemirror_mode": {
    "name": "ipython",
    "version": 3
   },
   "file_extension": ".py",
   "mimetype": "text/x-python",
   "name": "python",
   "nbconvert_exporter": "python",
   "pygments_lexer": "ipython3",
   "version": "3.7.0"
  }
 },
 "nbformat": 4,
 "nbformat_minor": 2
}
