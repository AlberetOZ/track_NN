{
 "cells": [
  {
   "cell_type": "code",
   "execution_count": 1,
   "metadata": {},
   "outputs": [],
   "source": [
    "import pickle\n",
    "from sklearn.model_selection import train_test_split\n",
    "import numpy as np\n",
    "import PIL.Image\n",
    "import itertools\n",
    "from IPython.core.display import Image, display\n",
    "import scipy.ndimage\n",
    "import random\n",
    "import numpy as np\n",
    "import matplotlib.pylab as plt\n",
    "import tqdm\n",
    "import math\n",
    "%matplotlib inline"
   ]
  },
  {
   "cell_type": "markdown",
   "metadata": {
    "collapsed": true
   },
   "source": [
    "# Загружаем датасет"
   ]
  },
  {
   "cell_type": "code",
   "execution_count": 2,
   "metadata": {},
   "outputs": [],
   "source": [
    "with open('./hw_1_train.pickle', 'rb') as f:\n",
    "    train = pickle.load(f)\n",
    "\n",
    "with open('./hw_1_test_no_lables.pickle', 'rb') as f:\n",
    "    test_no_lables = pickle.load(f)"
   ]
  },
  {
   "cell_type": "code",
   "execution_count": 3,
   "metadata": {},
   "outputs": [
    {
     "data": {
      "text/plain": [
       "<matplotlib.image.AxesImage at 0x11bf756d8>"
      ]
     },
     "execution_count": 3,
     "metadata": {},
     "output_type": "execute_result"
    },
    {
     "data": {
      "image/png": "[encoded data removed]",
      "text/plain": [
       "<Figure size 432x288 with 1 Axes>"
      ]
     },
     "metadata": {
      "needs_background": "light"
     },
     "output_type": "display_data"
    }
   ],
   "source": [
    "# Пример, как можно визуализировать данные\n",
    "plt.imshow(train['data'][7777].reshape(28,28))"
   ]
  },
  {
   "cell_type": "markdown",
   "metadata": {},
   "source": [
    "# Обучаем модель"
   ]
  },
  {
   "cell_type": "code",
   "execution_count": 4,
   "metadata": {},
   "outputs": [],
   "source": [
    "def sigmoid (z):\n",
    "    return 1 / (1 + np.exp (-z))\n",
    "\n",
    "# LogLoss функция\n",
    "def L (X, y, w, C):\n",
    "    result = 0\n",
    "    \n",
    "    for i in range (X.shape[0]):\n",
    "        A = y[i] * np.dot (X[i], w)\n",
    "        result += (np.log (1 + np.exp (-A)))\n",
    "        \n",
    "    return (1 / X.shape[0]) * result + (1 / C) * np.dot(w.T, w)"
   ]
  },
  {
   "cell_type": "code",
   "execution_count": 5,
   "metadata": {},
   "outputs": [],
   "source": [
    "# Вычисляем градиент LogLoss функции\n",
    "def get_grad(xi, yi, w, C):    \n",
    "    grad = (-C) * (sigmoid (yi * np.dot (xi, w))) * yi * xi * np.exp (-(yi * np.dot (xi, w))) + 2 * w\n",
    "        \n",
    "    return grad"
   ]
  },
  {
   "cell_type": "code",
   "execution_count": 6,
   "metadata": {},
   "outputs": [],
   "source": [
    "# Поиск лучшего w\n",
    "def optimize (X, y, w, max_iter, C, learning_rate):\n",
    "    for i in range (max_iter):\n",
    "        k = np.random.randint (X.shape[0])\n",
    "        w -= get_grad (X[k], y[k], w, C) * learning_rate"
   ]
  },
  {
   "cell_type": "code",
   "execution_count": 7,
   "metadata": {},
   "outputs": [],
   "source": [
    "# Присваиваем каждому классу 1 или -1\n",
    "train['labels'][train['labels'] == 5] = -1\n",
    "train['labels'][train['labels'] == 6] = 1"
   ]
  },
  {
   "cell_type": "code",
   "execution_count": 8,
   "metadata": {},
   "outputs": [],
   "source": [
    "# Добавляем единичную колонку для w0\n",
    "train['data'] = np.hstack([ np.ones((train['data'].shape[0], 1)), train['data']] )"
   ]
  },
  {
   "cell_type": "code",
   "execution_count": 9,
   "metadata": {},
   "outputs": [],
   "source": [
    "# Инициализируем веса случайны образом\n",
    "np.random.seed(11)\n",
    "w = np.random.normal(scale=0.00001, size = train['data'].shape[1])"
   ]
  },
  {
   "cell_type": "code",
   "execution_count": 10,
   "metadata": {},
   "outputs": [],
   "source": [
    "# Делим выборку на обучающую и тестовую\n",
    "X_train, X_holdout, y_train, y_holdout = train_test_split(train['data'], train['labels'], test_size=0.15,\n",
    "random_state=17)"
   ]
  },
  {
   "cell_type": "code",
   "execution_count": 11,
   "metadata": {},
   "outputs": [],
   "source": [
    "# loss and accuracy info for each epoch\n",
    "tr = []\n",
    "te = []\n",
    "\n",
    "# Regularization parameter\n",
    "C = 0.01\n",
    "\n",
    "# Number of epoches\n",
    "max_epoch = 2000;\n",
    "\n",
    "# The best solution\n",
    "w_best = w\n",
    "y_test_best = 0\n",
    "\n",
    "for i in range (max_epoch):\n",
    "    optimize (X_train, y_train, w, max_iter = 110, C = C, learning_rate = 0.00002)\n",
    "    \n",
    "    # Predictions in this epoch\n",
    "    y_train_pred  = np.dot (X_train, w)\n",
    "    y_test_pred   = np.dot (X_holdout, w)\n",
    "    \n",
    "    # Number of right predictions in this epoch\n",
    "    y_train_right = 0\n",
    "    y_test_right  = 0\n",
    "    \n",
    "    # Accuracy for train_set\n",
    "    for j in range (y_train.shape[0]):\n",
    "        if (sigmoid (y_train_pred [j]) >= 0.5 and y_train [j] == 1\\\n",
    "            or sigmoid (y_train_pred [j]) < 0.5 and y_train [j] == -1):\n",
    "            \n",
    "            y_train_right += 1\n",
    "    \n",
    "    # Accuracy for holdout_set\n",
    "    for j in range (y_holdout.shape[0]):\n",
    "        if (sigmoid (y_test_pred [j]) >= 0.5 and y_holdout [j] == 1\\\n",
    "            or sigmoid (y_test_pred [j]) < 0.5 and y_holdout [j] == -1):\n",
    "            \n",
    "            y_test_right += 1\n",
    "    \n",
    "    # Choose the best solution\n",
    "    if (y_test_right > y_test_best):\n",
    "        w_best = w\n",
    "        y_test_best = y_test_right\n",
    "    \n",
    "    tr.append ({'loss': L (X_train, y_train, w, C = C),\n",
    "                'accuracy': y_train_right / y_train.shape [0]})\n",
    "    \n",
    "    te.append ({'loss': L (X_holdout, y_holdout, w, C = C),\n",
    "                'accuracy': y_test_right / y_holdout.shape [0]})"
   ]
  },
  {
   "cell_type": "markdown",
   "metadata": {},
   "source": [
    "# Оцениваем результат"
   ]
  },
  {
   "cell_type": "markdown",
   "metadata": {},
   "source": [
    "Обязательно отрисуйте 2 графика:\n",
    "- loss на обучающем и тестовом множесте\n",
    "- % правильно классифицированных примеров на тестовом и обучающем множестве"
   ]
  },
  {
   "cell_type": "code",
   "execution_count": 12,
   "metadata": {},
   "outputs": [
    {
     "data": {
      "text/plain": [
       "<matplotlib.legend.Legend at 0x129836198>"
      ]
     },
     "execution_count": 12,
     "metadata": {},
     "output_type": "execute_result"
    },
    {
     "data": {
      "image/png": "[encoded data removed]",
      "text/plain": [
       "<Figure size 432x288 with 1 Axes>"
      ]
     },
     "metadata": {
      "needs_background": "light"
     },
     "output_type": "display_data"
    }
   ],
   "source": [
    "plt.title('Loss')\n",
    "plt.plot([e['loss'] for e in tr], label='train')\n",
    "plt.plot([e['loss'] for e in te], label='test')\n",
    "plt.legend()"
   ]
  },
  {
   "cell_type": "code",
   "execution_count": 13,
   "metadata": {},
   "outputs": [
    {
     "data": {
      "text/plain": [
       "<matplotlib.legend.Legend at 0x12989f748>"
      ]
     },
     "execution_count": 13,
     "metadata": {},
     "output_type": "execute_result"
    },
    {
     "data": {
      "image/png": "[encoded data removed]",
      "text/plain": [
       "<Figure size 432x288 with 1 Axes>"
      ]
     },
     "metadata": {
      "needs_background": "light"
     },
     "output_type": "display_data"
    }
   ],
   "source": [
    "plt.title('Accuracy')\n",
    "plt.plot([e['accuracy'] for e in tr], label='train')\n",
    "plt.plot([e['accuracy'] for e in te], label='test')\n",
    "plt.legend()"
   ]
  },
  {
   "cell_type": "markdown",
   "metadata": {},
   "source": [
    "# Сохраняем данные для кагла"
   ]
  },
  {
   "cell_type": "markdown",
   "metadata": {},
   "source": [
    "https://www.kaggle.com/t/513ea517806348848dc78c4f41d44528"
   ]
  },
  {
   "cell_type": "markdown",
   "metadata": {},
   "source": [
    "Результат записывается в простой текстовый файл. Первая строчка \"Id,Prediction\", далее для каждого примера из валидационного множества записывается его Id (порядковый номер, с нуля) и вероятность принадлежности к классу '6', например '123,0.12'.\n",
    "\n",
    "Важно соблюдать тот же порядок следования элементов, что и в наборе данных. Нумерация id с 0"
   ]
  },
  {
   "cell_type": "code",
   "execution_count": 14,
   "metadata": {},
   "outputs": [],
   "source": [
    "X = test_no_lables['data']\n",
    "X = np.hstack([ np.ones((X.shape[0], 1)), X])\n",
    "\n",
    "Y_pred = np.dot (X, w_best)\n",
    "\n",
    "with open('solution.csv', 'w') as fout:\n",
    "    print(\"Id,Prediction\", file=fout)\n",
    "    for i in range(len(test_no_lables['data'])):\n",
    "        print(i, sigmoid (Y_pred[i]), sep=',', file=fout)"
   ]
  },
  {
   "cell_type": "markdown",
   "metadata": {},
   "source": [
    "# Сдача"
   ]
  },
  {
   "cell_type": "markdown",
   "metadata": {},
   "source": [
    "1. Регистрируетесь на конкурс https://www.kaggle.com/t/513ea517806348848dc78c4f41d44528 \n",
    "1. Преодолеваете \"Pass level\" baseline\n",
    "1. После того, как вы преодолеете baseline, присылайте ноутбук с решение по адресу **voropaev@corp.mail.ru**\n",
    "\n",
    "# Внимание\n",
    "- Пишите тему письм в формате \"[МИФИ][1] Фамилия\"\n",
    "- Внутри писма прикрепляете файл ноутбука с именем family.ipynb\n",
    "- Обязательно указывайте ваш ник на kaggle"
   ]
  }
 ],
 "metadata": {
  "kernelspec": {
   "display_name": "Python 3",
   "language": "python",
   "name": "python3"
  },
  "language_info": {
   "codemirror_mode": {
    "name": "ipython",
    "version": 3
   },
   "file_extension": ".py",
   "mimetype": "text/x-python",
   "name": "python",
   "nbconvert_exporter": "python",
   "pygments_lexer": "ipython3",
   "version": "3.7.0"
  }
 },
 "nbformat": 4,
 "nbformat_minor": 2
}
